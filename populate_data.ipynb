{
 "cells": [
  {
   "cell_type": "code",
   "execution_count": 1,
   "id": "151b5efd",
   "metadata": {},
   "outputs": [],
   "source": [
    "# Import Libraries\n",
    "import pandas as pd\n",
    "import numpy as np\n",
    "from datetime import datetime, timedelta\n",
    "import sqlalchemy as sa"
   ]
  },
  {
   "cell_type": "code",
   "execution_count": 2,
   "id": "77bf2d8d",
   "metadata": {},
   "outputs": [
    {
     "name": "stdout",
     "output_type": "stream",
     "text": [
      "Connected to AgriDiseaseDB\n"
     ]
    }
   ],
   "source": [
    "# Database Connection\n",
    "engine = sa.create_engine('mssql+pyodbc://@PresHacks/AgriDiseaseDB?driver=SQL+Server&trusted_connection=yes')\n",
    "print(\"Connected to AgriDiseaseDB\")"
   ]
  },
  {
   "cell_type": "code",
   "execution_count": 4,
   "id": "5484692f",
   "metadata": {},
   "outputs": [
    {
     "name": "stdout",
     "output_type": "stream",
     "text": [
      "Farms populated: 50\n"
     ]
    }
   ],
   "source": [
    "# Populate Farms\n",
    "farms_data = []\n",
    "for i in range(50):\n",
    "    farms_data.append({\n",
    "        \"farm_name\": f\"Farm_{i+1}\",\n",
    "        \"latitude\": np.random.uniform(40.0, 42.0),\n",
    "        \"longitude\": np.random.uniform(-100.0, -98.0),\n",
    "        \"soil_type\": np.random.choice([\"Loam\", \"Clay\", \"Sandy\"]),\n",
    "        \"irrigation_method\": np.random.choice([\"Drip\", \"Flood\", \"None\"]),\n",
    "        \"farm_size_ha\": np.random.uniform(5, 50)\n",
    "    })\n",
    "\n",
    "farms_df = pd.DataFrame(farms_data)\n",
    "farms_df.to_sql(\"Farms\", engine, if_exists=\"append\", index=False)\n",
    "print(\"Farms populated:\", len(farms_df))"
   ]
  },
  {
   "cell_type": "code",
   "execution_count": 5,
   "id": "3da8e224",
   "metadata": {},
   "outputs": [
    {
     "name": "stdout",
     "output_type": "stream",
     "text": [
      "Crops populated: 106\n"
     ]
    }
   ],
   "source": [
    "# Populate Crops\n",
    "farm_ids = pd.read_sql(\"SELECT farm_id FROM Farms\", engine)[\"farm_id\"].tolist()\n",
    "crops_data = []\n",
    "for farm_id in farm_ids:\n",
    "    for _ in range(np.random.randint(1, 4)):\n",
    "        crops_data.append({\n",
    "            \"farm_id\": farm_id,\n",
    "            \"crop_type\": np.random.choice([\"Wheat\", \"Corn\", \"Soybean\"]),\n",
    "            \"planting_date\": datetime(2024, np.random.randint(1, 5), np.random.randint(1, 28))\n",
    "        })\n",
    "\n",
    "crops_df = pd.DataFrame(crops_data)\n",
    "crops_df.to_sql(\"Crops\", engine, if_exists=\"append\", index=False)\n",
    "print(\"Crops populated:\", len(crops_df))"
   ]
  },
  {
   "cell_type": "code",
   "execution_count": 6,
   "id": "e1f7672b",
   "metadata": {},
   "outputs": [
    {
     "name": "stdout",
     "output_type": "stream",
     "text": [
      "DiseaseReports populated: 107\n"
     ]
    }
   ],
   "source": [
    "# Populate DiseaseReports\n",
    "crop_data = pd.read_sql(\"SELECT crop_id, farm_id FROM Crops\", engine).to_dict(\"records\")\n",
    "disease_data = []\n",
    "for crop in crop_data:\n",
    "    for _ in range(np.random.randint(0, 3)):\n",
    "        disease_data.append({\n",
    "            \"farm_id\": crop[\"farm_id\"],\n",
    "            \"crop_id\": crop[\"crop_id\"],\n",
    "            \"disease_name\": np.random.choice([\"Blight\", \"Rust\", \"Mildew\"]),\n",
    "            \"report_date\": datetime(2024, np.random.randint(1, 13), np.random.randint(1, 28)),\n",
    "            \"severity\": np.random.randint(1, 11),\n",
    "            \"description\": np.random.choice([\"Yellow spots\", \"Wilting leaves\", \"Gray patches\"])\n",
    "        })\n",
    "\n",
    "disease_df = pd.DataFrame(disease_data)\n",
    "disease_df.to_sql(\"DiseaseReports\", engine, if_exists=\"append\", index=False)\n",
    "print(\"DiseaseReports populated:\", len(disease_df))"
   ]
  },
  {
   "cell_type": "code",
   "execution_count": 7,
   "id": "7db51fba",
   "metadata": {},
   "outputs": [
    {
     "name": "stdout",
     "output_type": "stream",
     "text": [
      "WeatherData populated: 18250\n"
     ]
    }
   ],
   "source": [
    "# Populate WeatherData\n",
    "dates = [datetime(2024, 1, 1) + timedelta(days=i) for i in range(365)]\n",
    "weather_data = []\n",
    "for farm_id in farm_ids:\n",
    "    for date in dates:\n",
    "        month = date.month\n",
    "        weather_data.append({\n",
    "            \"farm_id\": farm_id,\n",
    "            \"record_date\": date,\n",
    "            \"temperature_c\": np.random.normal(20 + 5 * np.sin(month * np.pi / 6), 3),\n",
    "            \"humidity_percent\": np.random.uniform(50, 90),\n",
    "            \"rainfall_mm\": np.random.exponential(10 if month in [6, 7, 8] else 5),\n",
    "            \"wind_speed_kph\": np.random.uniform(5, 20)\n",
    "        })\n",
    "\n",
    "weather_df = pd.DataFrame(weather_data)\n",
    "weather_df.to_sql(\"WeatherData\", engine, if_exists=\"append\", index=False)\n",
    "print(\"WeatherData populated:\", len(weather_df))"
   ]
  },
  {
   "cell_type": "code",
   "execution_count": 8,
   "id": "921b4891",
   "metadata": {},
   "outputs": [
    {
     "name": "stdout",
     "output_type": "stream",
     "text": [
      "Farms has 50 rows\n",
      "Crops has 106 rows\n",
      "DiseaseReports has 107 rows\n",
      "WeatherData has 18250 rows\n"
     ]
    }
   ],
   "source": [
    "# Verify Data\n",
    "for table in [\"Farms\", \"Crops\", \"DiseaseReports\", \"WeatherData\"]:\n",
    "    count = pd.read_sql(f\"SELECT COUNT(*) as count FROM {table}\", engine)[\"count\"].iloc[0]\n",
    "    print(f\"{table} has {count} rows\")"
   ]
  },
  {
   "cell_type": "code",
   "execution_count": null,
   "id": "6f95b078",
   "metadata": {},
   "outputs": [],
   "source": []
  }
 ],
 "metadata": {
  "kernelspec": {
   "display_name": "notebook_env",
   "language": "python",
   "name": "python3"
  },
  "language_info": {
   "codemirror_mode": {
    "name": "ipython",
    "version": 3
   },
   "file_extension": ".py",
   "mimetype": "text/x-python",
   "name": "python",
   "nbconvert_exporter": "python",
   "pygments_lexer": "ipython3",
   "version": "3.13.2"
  }
 },
 "nbformat": 4,
 "nbformat_minor": 5
}
